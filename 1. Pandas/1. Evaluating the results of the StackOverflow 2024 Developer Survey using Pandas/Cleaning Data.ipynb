{
 "cells": [
  {
   "cell_type": "code",
   "execution_count": 4,
   "id": "c0139a4c-2a74-4d8b-9ef9-7be25cc88559",
   "metadata": {},
   "outputs": [],
   "source": [
    "import pandas as pd\n",
    "import numpy as np"
   ]
  },
  {
   "cell_type": "code",
   "execution_count": 16,
   "id": "9c0673e4-5a01-4ec5-bff6-aa4c558324a6",
   "metadata": {},
   "outputs": [
    {
     "data": {
      "text/html": [
       "<div>\n",
       "<style scoped>\n",
       "    .dataframe tbody tr th:only-of-type {\n",
       "        vertical-align: middle;\n",
       "    }\n",
       "\n",
       "    .dataframe tbody tr th {\n",
       "        vertical-align: top;\n",
       "    }\n",
       "\n",
       "    .dataframe thead th {\n",
       "        text-align: right;\n",
       "    }\n",
       "</style>\n",
       "<table border=\"1\" class=\"dataframe\">\n",
       "  <thead>\n",
       "    <tr style=\"text-align: right;\">\n",
       "      <th></th>\n",
       "      <th>first_name</th>\n",
       "      <th>last_name</th>\n",
       "      <th>age</th>\n",
       "      <th>email</th>\n",
       "    </tr>\n",
       "  </thead>\n",
       "  <tbody>\n",
       "    <tr>\n",
       "      <th>0</th>\n",
       "      <td>Corey</td>\n",
       "      <td>Schafer</td>\n",
       "      <td>30.0</td>\n",
       "      <td>corey@gmail.com</td>\n",
       "    </tr>\n",
       "    <tr>\n",
       "      <th>1</th>\n",
       "      <td>Cate</td>\n",
       "      <td>Materazzi</td>\n",
       "      <td>42.0</td>\n",
       "      <td>cate@gmail.com</td>\n",
       "    </tr>\n",
       "    <tr>\n",
       "      <th>2</th>\n",
       "      <td>Dan</td>\n",
       "      <td>Scheineder</td>\n",
       "      <td>51.0</td>\n",
       "      <td>None</td>\n",
       "    </tr>\n",
       "    <tr>\n",
       "      <th>3</th>\n",
       "      <td>None</td>\n",
       "      <td>Kamau</td>\n",
       "      <td>NaN</td>\n",
       "      <td>kamaaa@gmail.com</td>\n",
       "    </tr>\n",
       "    <tr>\n",
       "      <th>4</th>\n",
       "      <td>None</td>\n",
       "      <td>None</td>\n",
       "      <td>NaN</td>\n",
       "      <td>None</td>\n",
       "    </tr>\n",
       "    <tr>\n",
       "      <th>5</th>\n",
       "      <td>Alex</td>\n",
       "      <td>Bilal</td>\n",
       "      <td>19.0</td>\n",
       "      <td>bilzalex@gmail.com</td>\n",
       "    </tr>\n",
       "    <tr>\n",
       "      <th>6</th>\n",
       "      <td>NaN</td>\n",
       "      <td>NaN</td>\n",
       "      <td>NaN</td>\n",
       "      <td>anonymous@gmail.com</td>\n",
       "    </tr>\n",
       "  </tbody>\n",
       "</table>\n",
       "</div>"
      ],
      "text/plain": [
       "  first_name   last_name   age                email\n",
       "0      Corey     Schafer  30.0      corey@gmail.com\n",
       "1       Cate   Materazzi  42.0       cate@gmail.com\n",
       "2        Dan  Scheineder  51.0                 None\n",
       "3       None       Kamau   NaN     kamaaa@gmail.com\n",
       "4       None        None   NaN                 None\n",
       "5       Alex       Bilal  19.0   bilzalex@gmail.com\n",
       "6        NaN         NaN   NaN  anonymous@gmail.com"
      ]
     },
     "execution_count": 16,
     "metadata": {},
     "output_type": "execute_result"
    }
   ],
   "source": [
    "people = {\n",
    "    \"first_name\": [\"Corey\", \"Cate\", \"Dan\", None, None, \"Alex\", \"NA\"],\n",
    "    \"last_name\": [\"Schafer\", \"Materazzi\", \"Scheineder\", \"Kamau\", None, \"Bilal\", \"Missing\"],\n",
    "    \"age\": [30, 42, 51, np.nan, np.nan, 19, np.nan],\n",
    "    \"email\": [\"corey@gmail.com\", \"cate@gmail.com\", None, \"kamaaa@gmail.com\", None, \"bilzalex@gmail.com\", \"anonymous@gmail.com\"]\n",
    "}\n",
    "df = pd.DataFrame(people)\n",
    "\n",
    "df.replace(\"NA\", np.nan, inplace=True) # Replaces custom NA values with NaN values\n",
    "df.replace(\"Missing\", np.nan, inplace=True)\n",
    "df"
   ]
  },
  {
   "cell_type": "code",
   "execution_count": 17,
   "id": "25307e58-f175-4d56-8cdb-00307a289b50",
   "metadata": {},
   "outputs": [
    {
     "data": {
      "text/html": [
       "<div>\n",
       "<style scoped>\n",
       "    .dataframe tbody tr th:only-of-type {\n",
       "        vertical-align: middle;\n",
       "    }\n",
       "\n",
       "    .dataframe tbody tr th {\n",
       "        vertical-align: top;\n",
       "    }\n",
       "\n",
       "    .dataframe thead th {\n",
       "        text-align: right;\n",
       "    }\n",
       "</style>\n",
       "<table border=\"1\" class=\"dataframe\">\n",
       "  <thead>\n",
       "    <tr style=\"text-align: right;\">\n",
       "      <th></th>\n",
       "      <th>first_name</th>\n",
       "      <th>last_name</th>\n",
       "      <th>age</th>\n",
       "      <th>email</th>\n",
       "    </tr>\n",
       "  </thead>\n",
       "  <tbody>\n",
       "    <tr>\n",
       "      <th>0</th>\n",
       "      <td>Corey</td>\n",
       "      <td>Schafer</td>\n",
       "      <td>30.0</td>\n",
       "      <td>corey@gmail.com</td>\n",
       "    </tr>\n",
       "    <tr>\n",
       "      <th>1</th>\n",
       "      <td>Cate</td>\n",
       "      <td>Materazzi</td>\n",
       "      <td>42.0</td>\n",
       "      <td>cate@gmail.com</td>\n",
       "    </tr>\n",
       "    <tr>\n",
       "      <th>5</th>\n",
       "      <td>Alex</td>\n",
       "      <td>Bilal</td>\n",
       "      <td>19.0</td>\n",
       "      <td>bilzalex@gmail.com</td>\n",
       "    </tr>\n",
       "  </tbody>\n",
       "</table>\n",
       "</div>"
      ],
      "text/plain": [
       "  first_name  last_name   age               email\n",
       "0      Corey    Schafer  30.0     corey@gmail.com\n",
       "1       Cate  Materazzi  42.0      cate@gmail.com\n",
       "5       Alex      Bilal  19.0  bilzalex@gmail.com"
      ]
     },
     "execution_count": 17,
     "metadata": {},
     "output_type": "execute_result"
    }
   ],
   "source": [
    "# Let's clean this data by dropping all rows that have NaN or None values\n",
    "df.dropna()"
   ]
  },
  {
   "cell_type": "code",
   "execution_count": 18,
   "id": "83b20613-9ab2-4874-aeb2-eedf3f0c24d1",
   "metadata": {},
   "outputs": [
    {
     "data": {
      "text/html": [
       "<div>\n",
       "<style scoped>\n",
       "    .dataframe tbody tr th:only-of-type {\n",
       "        vertical-align: middle;\n",
       "    }\n",
       "\n",
       "    .dataframe tbody tr th {\n",
       "        vertical-align: top;\n",
       "    }\n",
       "\n",
       "    .dataframe thead th {\n",
       "        text-align: right;\n",
       "    }\n",
       "</style>\n",
       "<table border=\"1\" class=\"dataframe\">\n",
       "  <thead>\n",
       "    <tr style=\"text-align: right;\">\n",
       "      <th></th>\n",
       "      <th>first_name</th>\n",
       "      <th>last_name</th>\n",
       "      <th>age</th>\n",
       "      <th>email</th>\n",
       "    </tr>\n",
       "  </thead>\n",
       "  <tbody>\n",
       "    <tr>\n",
       "      <th>0</th>\n",
       "      <td>Corey</td>\n",
       "      <td>Schafer</td>\n",
       "      <td>30.0</td>\n",
       "      <td>corey@gmail.com</td>\n",
       "    </tr>\n",
       "    <tr>\n",
       "      <th>1</th>\n",
       "      <td>Cate</td>\n",
       "      <td>Materazzi</td>\n",
       "      <td>42.0</td>\n",
       "      <td>cate@gmail.com</td>\n",
       "    </tr>\n",
       "    <tr>\n",
       "      <th>2</th>\n",
       "      <td>Dan</td>\n",
       "      <td>Scheineder</td>\n",
       "      <td>51.0</td>\n",
       "      <td>None</td>\n",
       "    </tr>\n",
       "    <tr>\n",
       "      <th>3</th>\n",
       "      <td>None</td>\n",
       "      <td>Kamau</td>\n",
       "      <td>NaN</td>\n",
       "      <td>kamaaa@gmail.com</td>\n",
       "    </tr>\n",
       "    <tr>\n",
       "      <th>5</th>\n",
       "      <td>Alex</td>\n",
       "      <td>Bilal</td>\n",
       "      <td>19.0</td>\n",
       "      <td>bilzalex@gmail.com</td>\n",
       "    </tr>\n",
       "    <tr>\n",
       "      <th>6</th>\n",
       "      <td>NaN</td>\n",
       "      <td>NaN</td>\n",
       "      <td>NaN</td>\n",
       "      <td>anonymous@gmail.com</td>\n",
       "    </tr>\n",
       "  </tbody>\n",
       "</table>\n",
       "</div>"
      ],
      "text/plain": [
       "  first_name   last_name   age                email\n",
       "0      Corey     Schafer  30.0      corey@gmail.com\n",
       "1       Cate   Materazzi  42.0       cate@gmail.com\n",
       "2        Dan  Scheineder  51.0                 None\n",
       "3       None       Kamau   NaN     kamaaa@gmail.com\n",
       "5       Alex       Bilal  19.0   bilzalex@gmail.com\n",
       "6        NaN         NaN   NaN  anonymous@gmail.com"
      ]
     },
     "execution_count": 18,
     "metadata": {},
     "output_type": "execute_result"
    }
   ],
   "source": [
    "\"\"\"\n",
    "The df.dropna() method contains 2 default args, axis and how.\n",
    "Args:\n",
    "    (i) axis: This defines if we are dropping the rows or columns with NaN/None values. \n",
    "              For example: axis=\"index\" drops rows with NaN values and axis=\"columns\" drops columns with NaN values\n",
    "\n",
    "    (ii) how: This defines if we are dropping rows/columns with all or any NaN values\n",
    "              For example: how=\"all\" drops rows/columns with all values == NaN and how=\"any\" drops rows/columns with NaN values\n",
    "\"\"\"\n",
    "df.dropna(axis=\"index\", how=\"all\") # This drops rows which has all values as NaN "
   ]
  },
  {
   "cell_type": "code",
   "execution_count": 19,
   "id": "71e547b5-e1ff-4d29-b8b0-aac2024e9661",
   "metadata": {},
   "outputs": [
    {
     "data": {
      "text/html": [
       "<div>\n",
       "<style scoped>\n",
       "    .dataframe tbody tr th:only-of-type {\n",
       "        vertical-align: middle;\n",
       "    }\n",
       "\n",
       "    .dataframe tbody tr th {\n",
       "        vertical-align: top;\n",
       "    }\n",
       "\n",
       "    .dataframe thead th {\n",
       "        text-align: right;\n",
       "    }\n",
       "</style>\n",
       "<table border=\"1\" class=\"dataframe\">\n",
       "  <thead>\n",
       "    <tr style=\"text-align: right;\">\n",
       "      <th></th>\n",
       "      <th>first_name</th>\n",
       "      <th>last_name</th>\n",
       "      <th>age</th>\n",
       "      <th>email</th>\n",
       "    </tr>\n",
       "  </thead>\n",
       "  <tbody>\n",
       "    <tr>\n",
       "      <th>0</th>\n",
       "      <td>False</td>\n",
       "      <td>False</td>\n",
       "      <td>False</td>\n",
       "      <td>False</td>\n",
       "    </tr>\n",
       "    <tr>\n",
       "      <th>1</th>\n",
       "      <td>False</td>\n",
       "      <td>False</td>\n",
       "      <td>False</td>\n",
       "      <td>False</td>\n",
       "    </tr>\n",
       "    <tr>\n",
       "      <th>2</th>\n",
       "      <td>False</td>\n",
       "      <td>False</td>\n",
       "      <td>False</td>\n",
       "      <td>True</td>\n",
       "    </tr>\n",
       "    <tr>\n",
       "      <th>3</th>\n",
       "      <td>True</td>\n",
       "      <td>False</td>\n",
       "      <td>True</td>\n",
       "      <td>False</td>\n",
       "    </tr>\n",
       "    <tr>\n",
       "      <th>4</th>\n",
       "      <td>True</td>\n",
       "      <td>True</td>\n",
       "      <td>True</td>\n",
       "      <td>True</td>\n",
       "    </tr>\n",
       "    <tr>\n",
       "      <th>5</th>\n",
       "      <td>False</td>\n",
       "      <td>False</td>\n",
       "      <td>False</td>\n",
       "      <td>False</td>\n",
       "    </tr>\n",
       "    <tr>\n",
       "      <th>6</th>\n",
       "      <td>True</td>\n",
       "      <td>True</td>\n",
       "      <td>True</td>\n",
       "      <td>False</td>\n",
       "    </tr>\n",
       "  </tbody>\n",
       "</table>\n",
       "</div>"
      ],
      "text/plain": [
       "   first_name  last_name    age  email\n",
       "0       False      False  False  False\n",
       "1       False      False  False  False\n",
       "2       False      False  False   True\n",
       "3        True      False   True  False\n",
       "4        True       True   True   True\n",
       "5       False      False  False  False\n",
       "6        True       True   True  False"
      ]
     },
     "execution_count": 19,
     "metadata": {},
     "output_type": "execute_result"
    }
   ],
   "source": [
    "df.isna() #Checks if value is NaN and returns true if it is."
   ]
  },
  {
   "cell_type": "code",
   "execution_count": 21,
   "id": "6049918d-440b-4afe-bc94-eca1ac1e7f5e",
   "metadata": {},
   "outputs": [],
   "source": [
    "# Let's cast the Age column to a float datatype using the pd.astype() method\n",
    "df[\"age\"] = df[\"age\"].astype(float)"
   ]
  },
  {
   "cell_type": "code",
   "execution_count": 23,
   "id": "47ec8ec9-c26b-4e1d-9a5a-ac90e1f79eee",
   "metadata": {},
   "outputs": [
    {
     "data": {
      "text/plain": [
       "first_name     object\n",
       "last_name      object\n",
       "age           float64\n",
       "email          object\n",
       "dtype: object"
      ]
     },
     "execution_count": 23,
     "metadata": {},
     "output_type": "execute_result"
    }
   ],
   "source": [
    "# Checking the dtypes of columns in the dataframe\n",
    "df.dtypes"
   ]
  },
  {
   "cell_type": "code",
   "execution_count": 24,
   "id": "84949509-9b83-45ef-80db-361092155dd4",
   "metadata": {},
   "outputs": [
    {
     "data": {
      "text/plain": [
       "35.5"
      ]
     },
     "execution_count": 24,
     "metadata": {},
     "output_type": "execute_result"
    }
   ],
   "source": [
    "# Let's get the average age\n",
    "df[\"age\"].mean()"
   ]
  },
  {
   "cell_type": "code",
   "execution_count": null,
   "id": "c1553b45-e7c2-4f47-8dd4-38c43f3eaa8e",
   "metadata": {},
   "outputs": [],
   "source": []
  }
 ],
 "metadata": {
  "kernelspec": {
   "display_name": "Python 3 (ipykernel)",
   "language": "python",
   "name": "python3"
  },
  "language_info": {
   "codemirror_mode": {
    "name": "ipython",
    "version": 3
   },
   "file_extension": ".py",
   "mimetype": "text/x-python",
   "name": "python",
   "nbconvert_exporter": "python",
   "pygments_lexer": "ipython3",
   "version": "3.12.2"
  }
 },
 "nbformat": 4,
 "nbformat_minor": 5
}
