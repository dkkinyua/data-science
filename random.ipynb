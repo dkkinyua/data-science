{
 "cells": [
  {
   "cell_type": "code",
   "execution_count": 1,
   "id": "e08f65d1-41ea-4c9a-b63a-59a0161480a7",
   "metadata": {},
   "outputs": [],
   "source": [
    "people = {\n",
    "    \"first_name\": [\"John\", \"Jane\", \"James\"],\n",
    "    \"last_name\": [\"Doe\", \"Doe Jr.\", \"Caldwin\"],\n",
    "    \"emails\": [\"johndoe@gmail.com\", \"janedoe@gmail.com\", \"jamescaldwin@gmail.com\"]\n",
    "}\n"
   ]
  },
  {
   "cell_type": "code",
   "execution_count": 2,
   "id": "5380df70-7163-4437-9284-b183c8c2f7c4",
   "metadata": {},
   "outputs": [
    {
     "data": {
      "text/html": [
       "<div>\n",
       "<style scoped>\n",
       "    .dataframe tbody tr th:only-of-type {\n",
       "        vertical-align: middle;\n",
       "    }\n",
       "\n",
       "    .dataframe tbody tr th {\n",
       "        vertical-align: top;\n",
       "    }\n",
       "\n",
       "    .dataframe thead th {\n",
       "        text-align: right;\n",
       "    }\n",
       "</style>\n",
       "<table border=\"1\" class=\"dataframe\">\n",
       "  <thead>\n",
       "    <tr style=\"text-align: right;\">\n",
       "      <th></th>\n",
       "      <th>first_name</th>\n",
       "      <th>last_name</th>\n",
       "      <th>emails</th>\n",
       "    </tr>\n",
       "  </thead>\n",
       "  <tbody>\n",
       "    <tr>\n",
       "      <th>0</th>\n",
       "      <td>John</td>\n",
       "      <td>Doe</td>\n",
       "      <td>johndoe@gmail.com</td>\n",
       "    </tr>\n",
       "    <tr>\n",
       "      <th>1</th>\n",
       "      <td>Jane</td>\n",
       "      <td>Doe Jr.</td>\n",
       "      <td>janedoe@gmail.com</td>\n",
       "    </tr>\n",
       "    <tr>\n",
       "      <th>2</th>\n",
       "      <td>James</td>\n",
       "      <td>Caldwin</td>\n",
       "      <td>jamescaldwin@gmail.com</td>\n",
       "    </tr>\n",
       "  </tbody>\n",
       "</table>\n",
       "</div>"
      ],
      "text/plain": [
       "  first_name last_name                  emails\n",
       "0       John       Doe       johndoe@gmail.com\n",
       "1       Jane   Doe Jr.       janedoe@gmail.com\n",
       "2      James   Caldwin  jamescaldwin@gmail.com"
      ]
     },
     "execution_count": 2,
     "metadata": {},
     "output_type": "execute_result"
    }
   ],
   "source": [
    "import pandas as pd\n",
    "\n",
    "df = pd.DataFrame(people)\n",
    "df"
   ]
  },
  {
   "cell_type": "code",
   "execution_count": 3,
   "id": "3aa4e9c3-7dc4-41af-ac9b-7c357a85041e",
   "metadata": {},
   "outputs": [
    {
     "name": "stdout",
     "output_type": "stream",
     "text": [
      "Jane\n"
     ]
    }
   ],
   "source": [
    "print(df[\"first_name\"][1])\n"
   ]
  },
  {
   "cell_type": "code",
   "execution_count": 4,
   "id": "7230d8a9-4391-4b8e-bf1f-9d4c0ff31bf4",
   "metadata": {},
   "outputs": [
    {
     "data": {
      "text/plain": [
       "first_name                 John\n",
       "last_name                   Doe\n",
       "emails        johndoe@gmail.com\n",
       "Name: 0, dtype: object"
      ]
     },
     "execution_count": 4,
     "metadata": {},
     "output_type": "execute_result"
    }
   ],
   "source": [
    "df.iloc[0]"
   ]
  },
  {
   "cell_type": "code",
   "execution_count": 5,
   "id": "5e98547b-0dea-4475-ac97-e64ede11e572",
   "metadata": {},
   "outputs": [
    {
     "data": {
      "text/plain": [
       "0    johndoe@gmail.com\n",
       "1    janedoe@gmail.com\n",
       "Name: emails, dtype: object"
      ]
     },
     "execution_count": 5,
     "metadata": {},
     "output_type": "execute_result"
    }
   ],
   "source": [
    "df.iloc[[0, 1], 2]"
   ]
  },
  {
   "cell_type": "code",
   "execution_count": 6,
   "id": "2ead5752-4f7a-4ba0-8ca2-e3e431ed55cc",
   "metadata": {},
   "outputs": [
    {
     "data": {
      "text/plain": [
       "first_name                 John\n",
       "last_name                   Doe\n",
       "emails        johndoe@gmail.com\n",
       "Name: 0, dtype: object"
      ]
     },
     "execution_count": 6,
     "metadata": {},
     "output_type": "execute_result"
    }
   ],
   "source": [
    "df.loc[0]"
   ]
  },
  {
   "cell_type": "code",
   "execution_count": 7,
   "id": "440cd9ce-9667-478d-be78-3b3499c69c98",
   "metadata": {},
   "outputs": [
    {
     "data": {
      "text/html": [
       "<div>\n",
       "<style scoped>\n",
       "    .dataframe tbody tr th:only-of-type {\n",
       "        vertical-align: middle;\n",
       "    }\n",
       "\n",
       "    .dataframe tbody tr th {\n",
       "        vertical-align: top;\n",
       "    }\n",
       "\n",
       "    .dataframe thead th {\n",
       "        text-align: right;\n",
       "    }\n",
       "</style>\n",
       "<table border=\"1\" class=\"dataframe\">\n",
       "  <thead>\n",
       "    <tr style=\"text-align: right;\">\n",
       "      <th></th>\n",
       "      <th>first_name</th>\n",
       "      <th>last_name</th>\n",
       "      <th>emails</th>\n",
       "    </tr>\n",
       "  </thead>\n",
       "  <tbody>\n",
       "    <tr>\n",
       "      <th>0</th>\n",
       "      <td>John</td>\n",
       "      <td>Doe</td>\n",
       "      <td>johndoe@gmail.com</td>\n",
       "    </tr>\n",
       "    <tr>\n",
       "      <th>1</th>\n",
       "      <td>Jane</td>\n",
       "      <td>Doe Jr.</td>\n",
       "      <td>janedoe@gmail.com</td>\n",
       "    </tr>\n",
       "  </tbody>\n",
       "</table>\n",
       "</div>"
      ],
      "text/plain": [
       "  first_name last_name             emails\n",
       "0       John       Doe  johndoe@gmail.com\n",
       "1       Jane   Doe Jr.  janedoe@gmail.com"
      ]
     },
     "execution_count": 7,
     "metadata": {},
     "output_type": "execute_result"
    }
   ],
   "source": [
    "df.loc[[0,1]]"
   ]
  },
  {
   "cell_type": "code",
   "execution_count": 8,
   "id": "d03600de-1d38-4ca6-94ae-a34167e2214c",
   "metadata": {},
   "outputs": [
    {
     "data": {
      "text/html": [
       "<div>\n",
       "<style scoped>\n",
       "    .dataframe tbody tr th:only-of-type {\n",
       "        vertical-align: middle;\n",
       "    }\n",
       "\n",
       "    .dataframe tbody tr th {\n",
       "        vertical-align: top;\n",
       "    }\n",
       "\n",
       "    .dataframe thead th {\n",
       "        text-align: right;\n",
       "    }\n",
       "</style>\n",
       "<table border=\"1\" class=\"dataframe\">\n",
       "  <thead>\n",
       "    <tr style=\"text-align: right;\">\n",
       "      <th></th>\n",
       "      <th>first_name</th>\n",
       "      <th>last_name</th>\n",
       "    </tr>\n",
       "    <tr>\n",
       "      <th>emails</th>\n",
       "      <th></th>\n",
       "      <th></th>\n",
       "    </tr>\n",
       "  </thead>\n",
       "  <tbody>\n",
       "    <tr>\n",
       "      <th>johndoe@gmail.com</th>\n",
       "      <td>John</td>\n",
       "      <td>Doe</td>\n",
       "    </tr>\n",
       "    <tr>\n",
       "      <th>janedoe@gmail.com</th>\n",
       "      <td>Jane</td>\n",
       "      <td>Doe Jr.</td>\n",
       "    </tr>\n",
       "    <tr>\n",
       "      <th>jamescaldwin@gmail.com</th>\n",
       "      <td>James</td>\n",
       "      <td>Caldwin</td>\n",
       "    </tr>\n",
       "  </tbody>\n",
       "</table>\n",
       "</div>"
      ],
      "text/plain": [
       "                       first_name last_name\n",
       "emails                                     \n",
       "johndoe@gmail.com            John       Doe\n",
       "janedoe@gmail.com            Jane   Doe Jr.\n",
       "jamescaldwin@gmail.com      James   Caldwin"
      ]
     },
     "execution_count": 8,
     "metadata": {},
     "output_type": "execute_result"
    }
   ],
   "source": [
    "# Setting a custom index to be the email. NOTE: Set the index to a unique identifier of the dataset for easier identification and saves time, remember to also set it at the beginning to avoid any conflicts. The inplace argument is used to tell Pandas that the set index should replace the default existing index\n",
    "df.set_index(\"emails\", inplace=True)\n",
    "df"
   ]
  },
  {
   "cell_type": "code",
   "execution_count": 9,
   "id": "456e6ce9",
   "metadata": {},
   "outputs": [
    {
     "data": {
      "text/plain": [
       "first_name    John\n",
       "last_name      Doe\n",
       "Name: johndoe@gmail.com, dtype: object"
      ]
     },
     "execution_count": 9,
     "metadata": {},
     "output_type": "execute_result"
    }
   ],
   "source": [
    "# Get info on user with a certain email using .loc[] NOTE: df.loc[0] won't work because the index has been replaced by \"emails\" column\n",
    "df.loc[\"johndoe@gmail.com\"]"
   ]
  },
  {
   "cell_type": "code",
   "execution_count": 10,
   "id": "a979cd33",
   "metadata": {},
   "outputs": [],
   "source": [
    "# Reset the index back to default\n",
    "df.reset_index(inplace=True) "
   ]
  },
  {
   "cell_type": "code",
   "execution_count": 13,
   "id": "819081e1-bb5b-4538-ab62-75204050488e",
   "metadata": {},
   "outputs": [
    {
     "data": {
      "text/plain": [
       "0     True\n",
       "1    False\n",
       "2    False\n",
       "Name: last_name, dtype: bool"
      ]
     },
     "execution_count": 13,
     "metadata": {},
     "output_type": "execute_result"
    }
   ],
   "source": [
    "# we want to get the bool values of the last_name column for names ending with Doe.\n",
    "df[\"last_name\"] == \"Doe\""
   ]
  },
  {
   "cell_type": "code",
   "execution_count": 14,
   "id": "7bd30fd2-7c37-45dc-8fda-39eb98ea2fb4",
   "metadata": {},
   "outputs": [],
   "source": [
    "# We would want to check the values of the booleans, so passing it into a variable \"filt\" would help in getting the actual values\n",
    "filt = df[\"last_name\"] == \"Doe\""
   ]
  },
  {
   "cell_type": "code",
   "execution_count": 15,
   "id": "b9bb6b36-63aa-4f5d-ac42-a5e9a1e60159",
   "metadata": {},
   "outputs": [
    {
     "data": {
      "text/html": [
       "<div>\n",
       "<style scoped>\n",
       "    .dataframe tbody tr th:only-of-type {\n",
       "        vertical-align: middle;\n",
       "    }\n",
       "\n",
       "    .dataframe tbody tr th {\n",
       "        vertical-align: top;\n",
       "    }\n",
       "\n",
       "    .dataframe thead th {\n",
       "        text-align: right;\n",
       "    }\n",
       "</style>\n",
       "<table border=\"1\" class=\"dataframe\">\n",
       "  <thead>\n",
       "    <tr style=\"text-align: right;\">\n",
       "      <th></th>\n",
       "      <th>emails</th>\n",
       "      <th>first_name</th>\n",
       "      <th>last_name</th>\n",
       "    </tr>\n",
       "  </thead>\n",
       "  <tbody>\n",
       "    <tr>\n",
       "      <th>0</th>\n",
       "      <td>johndoe@gmail.com</td>\n",
       "      <td>John</td>\n",
       "      <td>Doe</td>\n",
       "    </tr>\n",
       "  </tbody>\n",
       "</table>\n",
       "</div>"
      ],
      "text/plain": [
       "              emails first_name last_name\n",
       "0  johndoe@gmail.com       John       Doe"
      ]
     },
     "execution_count": 15,
     "metadata": {},
     "output_type": "execute_result"
    }
   ],
   "source": [
    "# Using the .loc() function to get the actual values of filt\n",
    "df.loc[filt]"
   ]
  },
  {
   "cell_type": "code",
   "execution_count": 16,
   "id": "baa96368-6e3a-4163-a1c6-5fdb2fc59d09",
   "metadata": {},
   "outputs": [
    {
     "data": {
      "text/plain": [
       "0    johndoe@gmail.com\n",
       "Name: emails, dtype: object"
      ]
     },
     "execution_count": 16,
     "metadata": {},
     "output_type": "execute_result"
    }
   ],
   "source": [
    "# Getting the value of the \"emails\" column\n",
    "df.loc[filt, \"emails\"]"
   ]
  },
  {
   "cell_type": "code",
   "execution_count": 25,
   "id": "00c0e218-28f3-4145-bb7b-ad7fe988c31d",
   "metadata": {},
   "outputs": [],
   "source": [
    "\"\"\"\n",
    "AND, OR and NEGATE functions.\n",
    "& - and\n",
    "| - or\n",
    "~ - negates the conditional\n",
    "\n",
    "Let's say we want to get the rows with the last_name == Doe and first_name == James\n",
    "\"\"\"\n",
    "filt2 = (df[\"last_name\"] == \"Doe\")  & (df[\"emails\"] == \"jamescaldwin@gmail.com\")\n"
   ]
  },
  {
   "cell_type": "code",
   "execution_count": 26,
   "id": "71f84333-124c-44fd-a0f1-60def83d2d7b",
   "metadata": {},
   "outputs": [
    {
     "data": {
      "text/html": [
       "<div>\n",
       "<style scoped>\n",
       "    .dataframe tbody tr th:only-of-type {\n",
       "        vertical-align: middle;\n",
       "    }\n",
       "\n",
       "    .dataframe tbody tr th {\n",
       "        vertical-align: top;\n",
       "    }\n",
       "\n",
       "    .dataframe thead th {\n",
       "        text-align: right;\n",
       "    }\n",
       "</style>\n",
       "<table border=\"1\" class=\"dataframe\">\n",
       "  <thead>\n",
       "    <tr style=\"text-align: right;\">\n",
       "      <th></th>\n",
       "      <th>emails</th>\n",
       "      <th>first_name</th>\n",
       "      <th>last_name</th>\n",
       "    </tr>\n",
       "  </thead>\n",
       "  <tbody>\n",
       "  </tbody>\n",
       "</table>\n",
       "</div>"
      ],
      "text/plain": [
       "Empty DataFrame\n",
       "Columns: [emails, first_name, last_name]\n",
       "Index: []"
      ]
     },
     "execution_count": 26,
     "metadata": {},
     "output_type": "execute_result"
    }
   ],
   "source": [
    "# This wouldn't print anything because there is no row has the following characteristics\n",
    "df.loc[filt2]"
   ]
  },
  {
   "cell_type": "code",
   "execution_count": 27,
   "id": "da570142-dfb3-4bc6-98bf-32fa1702202e",
   "metadata": {},
   "outputs": [],
   "source": [
    "# Get the rows which either has the last_name == Doe or emails == jamescaldwin...\n",
    "filt3 = (df[\"last_name\"] == \"Doe\")  | (df[\"emails\"] == \"jamescaldwin@gmail.com\")"
   ]
  },
  {
   "cell_type": "code",
   "execution_count": 28,
   "id": "eb62e6e2-12b3-4601-8c7a-ea5427ac0c7d",
   "metadata": {},
   "outputs": [
    {
     "data": {
      "text/html": [
       "<div>\n",
       "<style scoped>\n",
       "    .dataframe tbody tr th:only-of-type {\n",
       "        vertical-align: middle;\n",
       "    }\n",
       "\n",
       "    .dataframe tbody tr th {\n",
       "        vertical-align: top;\n",
       "    }\n",
       "\n",
       "    .dataframe thead th {\n",
       "        text-align: right;\n",
       "    }\n",
       "</style>\n",
       "<table border=\"1\" class=\"dataframe\">\n",
       "  <thead>\n",
       "    <tr style=\"text-align: right;\">\n",
       "      <th></th>\n",
       "      <th>emails</th>\n",
       "      <th>first_name</th>\n",
       "      <th>last_name</th>\n",
       "    </tr>\n",
       "  </thead>\n",
       "  <tbody>\n",
       "    <tr>\n",
       "      <th>0</th>\n",
       "      <td>johndoe@gmail.com</td>\n",
       "      <td>John</td>\n",
       "      <td>Doe</td>\n",
       "    </tr>\n",
       "    <tr>\n",
       "      <th>2</th>\n",
       "      <td>jamescaldwin@gmail.com</td>\n",
       "      <td>James</td>\n",
       "      <td>Caldwin</td>\n",
       "    </tr>\n",
       "  </tbody>\n",
       "</table>\n",
       "</div>"
      ],
      "text/plain": [
       "                   emails first_name last_name\n",
       "0       johndoe@gmail.com       John       Doe\n",
       "2  jamescaldwin@gmail.com      James   Caldwin"
      ]
     },
     "execution_count": 28,
     "metadata": {},
     "output_type": "execute_result"
    }
   ],
   "source": [
    "df.loc[filt3]"
   ]
  },
  {
   "cell_type": "code",
   "execution_count": 29,
   "id": "4d3d2cc2-08b1-45cb-88b1-d7123b185350",
   "metadata": {},
   "outputs": [
    {
     "data": {
      "text/html": [
       "<div>\n",
       "<style scoped>\n",
       "    .dataframe tbody tr th:only-of-type {\n",
       "        vertical-align: middle;\n",
       "    }\n",
       "\n",
       "    .dataframe tbody tr th {\n",
       "        vertical-align: top;\n",
       "    }\n",
       "\n",
       "    .dataframe thead th {\n",
       "        text-align: right;\n",
       "    }\n",
       "</style>\n",
       "<table border=\"1\" class=\"dataframe\">\n",
       "  <thead>\n",
       "    <tr style=\"text-align: right;\">\n",
       "      <th></th>\n",
       "      <th>emails</th>\n",
       "      <th>first_name</th>\n",
       "      <th>last_name</th>\n",
       "    </tr>\n",
       "  </thead>\n",
       "  <tbody>\n",
       "    <tr>\n",
       "      <th>1</th>\n",
       "      <td>janedoe@gmail.com</td>\n",
       "      <td>Jane</td>\n",
       "      <td>Doe Jr.</td>\n",
       "    </tr>\n",
       "  </tbody>\n",
       "</table>\n",
       "</div>"
      ],
      "text/plain": [
       "              emails first_name last_name\n",
       "1  janedoe@gmail.com       Jane   Doe Jr."
      ]
     },
     "execution_count": 29,
     "metadata": {},
     "output_type": "execute_result"
    }
   ],
   "source": [
    "# Let's negate filt3 and get the opposite\n",
    "df.loc[~filt3]"
   ]
  },
  {
   "cell_type": "code",
   "execution_count": null,
   "id": "4395a252-1047-4117-be92-227400a4ae8a",
   "metadata": {},
   "outputs": [],
   "source": []
  }
 ],
 "metadata": {
  "kernelspec": {
   "display_name": "Python 3 (ipykernel)",
   "language": "python",
   "name": "python3"
  },
  "language_info": {
   "codemirror_mode": {
    "name": "ipython",
    "version": 3
   },
   "file_extension": ".py",
   "mimetype": "text/x-python",
   "name": "python",
   "nbconvert_exporter": "python",
   "pygments_lexer": "ipython3",
   "version": "3.12.2"
  }
 },
 "nbformat": 4,
 "nbformat_minor": 5
}
